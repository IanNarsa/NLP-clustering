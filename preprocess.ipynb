{
 "cells": [
  {
   "cell_type": "code",
   "execution_count": 1,
   "metadata": {},
   "outputs": [],
   "source": [
    "from nltk.tokenize import word_tokenize\n",
    "from nltk.corpus import stopwords\n",
    "import string\n",
    "from Sastrawi.Stemmer.StemmerFactory import StemmerFactory"
   ]
  },
  {
   "cell_type": "code",
   "execution_count": 2,
   "metadata": {},
   "outputs": [
    {
     "name": "stdout",
     "output_type": "stream",
     "text": [
      "kalimat asli\n",
      "JKN-KIS menanggung perawatan penyakit Orang Dengan Gangguan Jiwa, agar tidak tercipta Joker lainnya :)\n",
      "\n"
     ]
    }
   ],
   "source": [
    "k = \"JKN-KIS menanggung perawatan penyakit Orang Dengan Gangguan Jiwa, agar tidak tercipta Joker lainnya :)\"\n",
    "print('kalimat asli')\n",
    "print(k)\n",
    "print()\n",
    "\n",
    "#Tahapan Preprocessing\n",
    "#Case Folding\n",
    "#Filtering\n",
    "#Stemming -> dapat refrensi opsional karena menambah kinerja server\n",
    "#Tokenize\n",
    "#Stopword Removal   \n",
    "#Caterin Stenize SR\n"
   ]
  },
  {
   "cell_type": "code",
   "execution_count": 3,
   "metadata": {},
   "outputs": [
    {
     "name": "stdout",
     "output_type": "stream",
     "text": [
      "Case Folding : \n",
      "jkn-kis menanggung perawatan penyakit orang dengan gangguan jiwa, agar tidak tercipta joker lainnya :)\n",
      "\n"
     ]
    }
   ],
   "source": [
    "case_folding = k.lower()\n",
    "print(\"Case Folding : \")\n",
    "print(case_folding)\n",
    "print()"
   ]
  },
  {
   "cell_type": "code",
   "execution_count": 4,
   "metadata": {},
   "outputs": [
    {
     "name": "stdout",
     "output_type": "stream",
     "text": [
      "Filtering\n",
      "jknkis menanggung perawatan penyakit orang dengan gangguan jiwa agar tidak tercipta joker lainnya \n",
      "\n"
     ]
    }
   ],
   "source": [
    "fil = case_folding.translate(str.maketrans(\"\",\"\",string.punctuation))\n",
    "print(\"Filtering\")\n",
    "print(fil)\n",
    "print()"
   ]
  },
  {
   "cell_type": "code",
   "execution_count": 5,
   "metadata": {},
   "outputs": [
    {
     "name": "stdout",
     "output_type": "stream",
     "text": [
      "Stemming\n",
      "jknkis tanggung awat sakit orang dengan ganggu jiwa agar tidak cipta joker lain\n",
      "\n"
     ]
    }
   ],
   "source": [
    "print('Stemming')\n",
    "factory = StemmerFactory()\n",
    "stemmer = factory.create_stemmer()\n",
    "stemm = stemmer.stem(fil)\n",
    "print(stemm)\n",
    "print()"
   ]
  },
  {
   "cell_type": "code",
   "execution_count": 6,
   "metadata": {},
   "outputs": [
    {
     "name": "stdout",
     "output_type": "stream",
     "text": [
      "Tokenize\n",
      "['jknkis', 'tanggung', 'awat', 'sakit', 'orang', 'dengan', 'ganggu', 'jiwa', 'agar', 'tidak', 'cipta', 'joker', 'lain']\n"
     ]
    }
   ],
   "source": [
    "tokens = word_tokenize(stemm)\n",
    "print(\"Tokenize\")\n",
    "print(tokens)"
   ]
  },
  {
   "cell_type": "code",
   "execution_count": 7,
   "metadata": {},
   "outputs": [
    {
     "name": "stdout",
     "output_type": "stream",
     "text": [
      "\n",
      "stopwords removal\n",
      "['jknkis', 'tanggung', 'awat', 'sakit', 'orang', 'ganggu', 'jiwa', 'cipta', 'joker']\n"
     ]
    }
   ],
   "source": [
    "stopword = set(stopwords.words('indonesian'))\n",
    "\n",
    "removed = []\n",
    "for t in tokens:\n",
    "    if t not in stopword:\n",
    "        removed.append(t)\n",
    "print()\n",
    "print('stopwords removal')\n",
    "print(removed)"
   ]
  },
  {
   "cell_type": "code",
   "execution_count": null,
   "metadata": {},
   "outputs": [],
   "source": []
  }
 ],
 "metadata": {
  "kernelspec": {
   "display_name": "Python 3",
   "language": "python",
   "name": "python3"
  },
  "language_info": {
   "codemirror_mode": {
    "name": "ipython",
    "version": 3
   },
   "file_extension": ".py",
   "mimetype": "text/x-python",
   "name": "python",
   "nbconvert_exporter": "python",
   "pygments_lexer": "ipython3",
   "version": "3.7.3"
  }
 },
 "nbformat": 4,
 "nbformat_minor": 2
}
